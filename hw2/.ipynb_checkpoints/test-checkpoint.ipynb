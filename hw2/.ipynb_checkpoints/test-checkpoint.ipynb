{
 "cells": [
  {
   "cell_type": "code",
   "execution_count": 1,
   "metadata": {
    "collapsed": true
   },
   "outputs": [],
   "source": [
    "with open('energy.csv', 'r') as energy:\n",
    "    lines = [line.rstrip() for line in energy if line != '\\n'][1:-1]\n",
    "    time_e = [i.split(',')[0] for i in lines]\n",
    "    value_e = [i.split(',')[1] for i in lines]"
   ]
  },
  {
   "cell_type": "code",
   "execution_count": 16,
   "metadata": {
    "collapsed": false
   },
   "outputs": [],
   "source": [
    "with open('waterTemperature.csv', 'r', encoding = 'utf-8') as temp:\n",
    "    lines = [line.rstrip() for line in temp if line != '\\n'][2:]\n",
    "    num = [line.split(',')[0] for line in lines]\n",
    "    time_temp = [line.split(',')[1] for line in lines]\n",
    "    value_t = [line.split(',')[2] for line in lines]"
   ]
  },
  {
   "cell_type": "code",
   "execution_count": 18,
   "metadata": {
    "collapsed": false
   },
   "outputs": [],
   "source": [
    "import time"
   ]
  },
  {
   "cell_type": "code",
   "execution_count": 19,
   "metadata": {
    "collapsed": true
   },
   "outputs": [],
   "source": [
    "t_e = [time.strptime(time_e[i], '%Y-%m-%d %H:%M:%S %z') for i in range(len(time_e))]"
   ]
  },
  {
   "cell_type": "code",
   "execution_count": 20,
   "metadata": {
    "collapsed": false
   },
   "outputs": [],
   "source": [
    "t_temp = [time.strptime(time_temp[i], '%m/%d/%y %I:%M:%S %p') for i in range(len(time_temp))]"
   ]
  },
  {
   "cell_type": "code",
   "execution_count": 22,
   "metadata": {
    "collapsed": false
   },
   "outputs": [],
   "source": [
    "new = ['' for i in range(len(t_temp))]\n",
    "for i in range(len(t_e)):\n",
    "    if time.mktime(t_temp[0])-time.mktime(t_e[i]) > 0:\n",
    "        continue\n",
    "    else:\n",
    "        for j in range(len(t_temp)):\n",
    "            if time.mktime(t_temp[j])-time.mktime(t_e[i]) > 0:\n",
    "                break\n",
    "        new[j-1] = value_e[i]"
   ]
  },
  {
   "cell_type": "code",
   "execution_count": 29,
   "metadata": {
    "collapsed": false
   },
   "outputs": [],
   "source": [
    "new2 = ['' for i in range(len(new))]\n",
    "index = [new.index(energy) for energy in new if energy]\n",
    "for i in index:\n",
    "    new2[i] = str(float(new[i])/1000)"
   ]
  },
  {
   "cell_type": "code",
   "execution_count": 34,
   "metadata": {
    "collapsed": false
   },
   "outputs": [],
   "source": [
    "new2 = []\n",
    "for energy in new:\n",
    "    if energy:\n",
    "        new2.append(str(float(energy)/1000))\n",
    "    else:\n",
    "        new2.append(energy)"
   ]
  },
  {
   "cell_type": "code",
   "execution_count": 57,
   "metadata": {
    "collapsed": true
   },
   "outputs": [],
   "source": [
    "time_new = [time.strftime('%Y-%m-%d %H:%M:%S', i) for i in t_temp]"
   ]
  },
  {
   "cell_type": "code",
   "execution_count": 58,
   "metadata": {
    "collapsed": false
   },
   "outputs": [],
   "source": [
    "out = [','.join([num[i], time_new[i], value_t[i], new[i], new2[i]]) for i in range(len(num))]"
   ]
  },
  {
   "cell_type": "code",
   "execution_count": 52,
   "metadata": {
    "collapsed": true
   },
   "outputs": [],
   "source": [
    "header = '#,Date Time,Temperature,Energy Produced(Wh),Energy Produced(kWh)\\n'"
   ]
  },
  {
   "cell_type": "code",
   "execution_count": 60,
   "metadata": {
    "collapsed": false
   },
   "outputs": [],
   "source": [
    "with open('output.csv',  'x') as f:\n",
    "    f.write(header+'\\n'.join(out)+'\\n')"
   ]
  },
  {
   "cell_type": "code",
   "execution_count": 59,
   "metadata": {
    "collapsed": true
   },
   "outputs": [],
   "source": [
    "import os\n",
    "os.remove(\"output.csv\")"
   ]
  }
 ],
 "metadata": {
  "anaconda-cloud": {},
  "kernelspec": {
   "display_name": "Python [conda root]",
   "language": "python",
   "name": "conda-root-py"
  },
  "language_info": {
   "codemirror_mode": {
    "name": "ipython",
    "version": 3
   },
   "file_extension": ".py",
   "mimetype": "text/x-python",
   "name": "python",
   "nbconvert_exporter": "python",
   "pygments_lexer": "ipython3",
   "version": "3.5.2"
  }
 },
 "nbformat": 4,
 "nbformat_minor": 1
}
